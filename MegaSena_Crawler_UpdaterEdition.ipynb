{
 "cells": [
  {
   "cell_type": "code",
   "execution_count": null,
   "metadata": {},
   "outputs": [],
   "source": [
    "import json\n",
    "from os import listdir"
   ]
  },
  {
   "cell_type": "code",
   "execution_count": null,
   "metadata": {},
   "outputs": [],
   "source": [
    "## ABRIR O ULTIMO DB\n",
    "\n",
    "megasena_db_dir = './db/megasena/'\n",
    "dbs = listdir(megasena_db_dir)\n",
    "filename = megasena_db_dir+dbs[-1]\n",
    "with open(filename, 'r') as openfile: \n",
    "    db = json.load(openfile)"
   ]
  },
  {
   "cell_type": "code",
   "execution_count": null,
   "metadata": {},
   "outputs": [],
   "source": [
    "# O formato da chave é \"Concurso NNN (dd/mm/aaaa)\"\n",
    "def find_concurso(dica, db):\n",
    "    found_key = None\n",
    "    for key in db.keys():\n",
    "        if str(dica) in key:\n",
    "            found_key = key\n",
    "    if found_key == None:\n",
    "        found_key = \"Concurso não encontrado.\"\n",
    "    return found_key\n",
    "\n",
    "# def find_ultimo_concurso(db):\n",
    "#     i = 0\n",
    "#     ultimo_concurso = 'Concurso '+str(i)\n",
    "#     find_concurso(ultimo_concurso)\n",
    "#     while find_concurso(ultimo_concurso, db) not in 'Concurso não encontrado.'\n",
    "    \n",
    "def find_buraco(db):\n",
    "    concurso = 1\n",
    "    faltantes = []\n",
    "    while concurso <= 2246:\n",
    "        if find_concurso('Concurso '+str(concurso)+' ', db) in 'Concurso não encontrado.':\n",
    "            faltantes.append(concurso)\n",
    "        concurso+=1\n",
    "    return faltantes\n",
    "\n",
    "\n",
    "faltantes = find_buraco(db)\n",
    "print('\\nNão foram encontrados os concursos:', faltantes, '\\n\\nUm total de:', len(faltantes))"
   ]
  },
  {
   "cell_type": "code",
   "execution_count": null,
   "metadata": {
    "scrolled": true
   },
   "outputs": [],
   "source": [
    "from selenium import webdriver\n",
    "from selenium.webdriver.common.keys import Keys\n",
    "from selenium.webdriver.common.action_chains import ActionChains\n",
    "from selenium.webdriver.common.by import By\n",
    "from selenium.webdriver.support.ui import WebDriverWait, Select\n",
    "from selenium.webdriver.support import expected_conditions as EC\n",
    "import json\n",
    "import time\n",
    "from selenium.webdriver.chrome.options import Options\n",
    "opts = Options()\n",
    "opts.add_argument(\"user-agent=[Mozilla/5.0 (Windows NT 6.1) AppleWebKit/537.36 (KHTML, like Gecko) Chrome/41.0.2228.0 Safari/537.36]\")\n",
    "\n",
    "browser = webdriver.Chrome()\n",
    "\n",
    "browser.get(\"http://loterias.caixa.gov.br/wps/portal/loterias/landing/megasena/\") \n",
    "time.sleep(5)\n",
    "\n",
    "resultados = {}\n",
    "\n",
    "for faltante in faltantes:\n",
    "    busca = browser.find_element_by_xpath('//*[@id=\"buscaConcurso\"]')\n",
    "    busca.send_keys(Keys.BACK_SPACE, Keys.BACK_SPACE, Keys.BACK_SPACE, Keys.BACK_SPACE, Keys.BACK_SPACE)\n",
    "    busca.send_keys(faltante)\n",
    "    if ' '+str(faltante)+' ' not in (browser.find_element_by_xpath('//*[@id=\"conteudoresultado\"]/div[1]/div/h2/span')).text:\n",
    "        busca.send_keys(Keys.ENTER)\n",
    "        time.sleep(1)\n",
    "    concurso = (browser.find_element_by_xpath('//*[@id=\"conteudoresultado\"]/div[1]/div/h2/span')).text\n",
    "    numeros = []\n",
    "    numeros.append((browser.find_element_by_xpath('//*[@id=\"ulDezenas\"]')).text)\n",
    "    resultado_numeros = []\n",
    "    while len(numeros[0]) > 0:\n",
    "        resultado_numeros.append(int(numeros[0][:2]))\n",
    "        numeros[0] = numeros[0][2:]\n",
    "    numeros = resultado_numeros\n",
    "    resultados[concurso] = {\n",
    "        'Numeros': numeros\n",
    "    }\n",
    "    print(concurso, numeros)\n",
    "print('Done.')"
   ]
  },
  {
   "cell_type": "code",
   "execution_count": null,
   "metadata": {},
   "outputs": [],
   "source": [
    "## SALVAR NOVO DB\n",
    "db.update(resultados)\n",
    "\n",
    "megasena_db_dir = './db/megasena/megasena_'\n",
    "dictionary = db\n",
    "filename = megasena_db_dir+str(int(time.time()))+'.json'\n",
    "with open(filename, \"w\") as outfile: \n",
    "    json.dump(dictionary, outfile)"
   ]
  }
 ],
 "metadata": {
  "kernelspec": {
   "display_name": "Python 3",
   "language": "python",
   "name": "python3"
  },
  "language_info": {
   "codemirror_mode": {
    "name": "ipython",
    "version": 3
   },
   "file_extension": ".py",
   "mimetype": "text/x-python",
   "name": "python",
   "nbconvert_exporter": "python",
   "pygments_lexer": "ipython3",
   "version": "3.7.6"
  }
 },
 "nbformat": 4,
 "nbformat_minor": 2
}
