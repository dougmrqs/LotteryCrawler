{
 "cells": [
  {
   "cell_type": "code",
   "execution_count": 1,
   "metadata": {},
   "outputs": [],
   "source": [
    "import time\n",
    "import json\n",
    "from os import listdir\n",
    "from selenium import webdriver\n",
    "from selenium.webdriver.common.keys import Keys\n",
    "from selenium.webdriver.chrome.options import Options"
   ]
  },
  {
   "cell_type": "code",
   "execution_count": 2,
   "metadata": {},
   "outputs": [],
   "source": [
    "## ABRIR O ULTIMO DB\n",
    "\n",
    "lotofacil_db_dir = './db/lotofacil/'\n",
    "dbs = listdir(lotofacil_db_dir)\n",
    "filename = lotofacil_db_dir+dbs[-1]\n",
    "with open(filename, 'r') as openfile: \n",
    "    db = json.load(openfile)"
   ]
  },
  {
   "cell_type": "code",
   "execution_count": 3,
   "metadata": {},
   "outputs": [
    {
     "name": "stdout",
     "output_type": "stream",
     "text": [
      "\n",
      "Não foram encontrados os concursos: [1965] \n",
      "\n",
      "Um total de: 1\n",
      "Concurso 1965 (11/05/2020) [1, 2, 4, 5, 6, 10, 12, 16, 19, 20, 21, 22, 23, 24, 25]\n",
      "Done.\n"
     ]
    }
   ],
   "source": [
    "## Selenium Configuration and actuation ##\n",
    "\n",
    "opts = Options()\n",
    "# opts.add_argument(\"user-agent=[Mozilla/5.0 (Windows NT 6.1) AppleWebKit/537.36 (KHTML, like Gecko) \\\n",
    "#                     Chrome/79.0 Safari/537.36]\")\n",
    "\n",
    "opts.add_argument('headless')\n",
    "\n",
    "browser = webdriver.Chrome(options=opts)\n",
    "\n",
    "browser.get(\"http://loterias.caixa.gov.br/wps/portal/loterias/landing/lotofacil/\")\n",
    "ultimo_concurso = browser.find_element_by_xpath('//*[@id=\"resultados\"]/div[1]/div/h2/span').text\n",
    "ultimo_concurso = (ultimo_concurso.split())[1]\n",
    "\n",
    "# O formato da chave é \"Concurso NNN (dd/mm/aaaa)\"\n",
    "def find_concurso(dica, db):\n",
    "    found_key = None\n",
    "    for key in db.keys():\n",
    "        if str(dica) in key:\n",
    "            found_key = key\n",
    "    if found_key == None:\n",
    "        found_key = \"Concurso não encontrado.\"\n",
    "    return found_key\n",
    "    \n",
    "def find_buraco(db, ultimo_concurso):\n",
    "    concurso = 1\n",
    "    faltantes = []\n",
    "    while concurso <= int(ultimo_concurso):\n",
    "        if find_concurso('Concurso '+str(concurso), db) in 'Concurso não encontrado.':\n",
    "            faltantes.append(concurso)\n",
    "        concurso+=1\n",
    "    return faltantes\n",
    "\n",
    "\n",
    "faltantes = find_buraco(db, ultimo_concurso)\n",
    "print('\\nNão foram encontrados os concursos:', faltantes, '\\n\\nUm total de:', len(faltantes))\n",
    "\n",
    "\n",
    "resultados = {}\n",
    "\n",
    "for faltante in faltantes:\n",
    "    busca = browser.find_element_by_xpath('//*[@id=\"buscaConcurso\"]')\n",
    "    busca.send_keys(Keys.BACK_SPACE, Keys.BACK_SPACE, Keys.BACK_SPACE, Keys.BACK_SPACE, Keys.BACK_SPACE)\n",
    "    busca.send_keys(faltante)\n",
    "    while str(faltante) not in (browser.find_element_by_xpath('//*[@id=\"resultados\"]/div[1]/div/h2/span')).text:\n",
    "        busca.send_keys(Keys.ENTER)\n",
    "        time.sleep(1)\n",
    "    concurso = (browser.find_element_by_xpath('//*[@id=\"resultados\"]/div[1]/div/h2/span')).text\n",
    "    numeros = []\n",
    "    numeros.append((browser.find_element_by_xpath('//*[@id=\"resultados\"]/div[2]/div/div/div[1]/table')).text)\n",
    "    numeros = numeros[0].split()\n",
    "    numeros = [int(i) for i in numeros]\n",
    "    \n",
    "    resultados[concurso] = {\n",
    "        'Numeros': numeros\n",
    "    }\n",
    "    print(concurso, numeros)\n",
    "browser.quit()\n",
    "print('Done.')\n",
    "\n",
    "## ## ##"
   ]
  },
  {
   "cell_type": "code",
   "execution_count": 4,
   "metadata": {},
   "outputs": [],
   "source": [
    "## SALVAR NOVO DB\n",
    "db.update(resultados)\n",
    "dictionary = db\n",
    "lotofacil_db_dir = './db/lotofacil/'\n",
    "filename = './db/lotofacil/lotofacil_'+str(int(time.time()))+'.json'\n",
    "with open(filename, \"w\") as outfile: \n",
    "    json.dump(dictionary, outfile)"
   ]
  }
 ],
 "metadata": {
  "kernelspec": {
   "display_name": "Python 3",
   "language": "python",
   "name": "python3"
  },
  "language_info": {
   "codemirror_mode": {
    "name": "ipython",
    "version": 3
   },
   "file_extension": ".py",
   "mimetype": "text/x-python",
   "name": "python",
   "nbconvert_exporter": "python",
   "pygments_lexer": "ipython3",
   "version": "3.7.6"
  }
 },
 "nbformat": 4,
 "nbformat_minor": 2
}
